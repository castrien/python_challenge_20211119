{
 "cells": [
  {
   "cell_type": "markdown",
   "id": "7ed9bbdd",
   "metadata": {},
   "source": [
    "# 0.0 Imports"
   ]
  },
  {
   "cell_type": "code",
   "execution_count": 2,
   "id": "a2fe6f60",
   "metadata": {},
   "outputs": [],
   "source": [
    "import pandas as pd\n",
    "import regex as re"
   ]
  },
  {
   "cell_type": "markdown",
   "id": "bebaaf1e",
   "metadata": {},
   "source": [
    "# 1.0 Data load"
   ]
  },
  {
   "cell_type": "code",
   "execution_count": 3,
   "id": "afaa6eb5",
   "metadata": {},
   "outputs": [],
   "source": [
    "df_amazon_prime_titles = pd.read_csv('data/amazon_prime_titles.csv', low_memory=False)\n",
    "df_netflix_titles = pd.read_csv('data/netflix_titles.csv', low_memory=False)"
   ]
  },
  {
   "cell_type": "markdown",
   "id": "2a82426a",
   "metadata": {},
   "source": [
    "# 2.0 - Data Transformation"
   ]
  },
  {
   "cell_type": "code",
   "execution_count": 5,
   "id": "60fd1a95",
   "metadata": {},
   "outputs": [],
   "source": [
    "df = pd.concat( [df_amazon_prime_titles, df_netflix_titles] )"
   ]
  },
  {
   "cell_type": "code",
   "execution_count": 6,
   "id": "c55b064a",
   "metadata": {
    "scrolled": true
   },
   "outputs": [
    {
     "data": {
      "text/plain": [
       "show_id            0\n",
       "type               0\n",
       "title              0\n",
       "director        4716\n",
       "cast            2058\n",
       "country         9827\n",
       "date_added      9523\n",
       "release_year       0\n",
       "rating           341\n",
       "duration           3\n",
       "listed_in          0\n",
       "description        0\n",
       "dtype: int64"
      ]
     },
     "execution_count": 6,
     "metadata": {},
     "output_type": "execute_result"
    }
   ],
   "source": [
    "df.isna().sum()"
   ]
  },
  {
   "cell_type": "code",
   "execution_count": 9,
   "id": "7f6ce5a7",
   "metadata": {},
   "outputs": [],
   "source": [
    "cast_list = []\n",
    "df['cast'].fillna('not_cast', inplace=True)\n",
    "df['date_added'].fillna('not_date', inplace=True)\n",
    "df_netflix_titles.fillna(value = 'date_added',  inplace = True) "
   ]
  },
  {
   "cell_type": "code",
   "execution_count": 10,
   "id": "3f3f7f73",
   "metadata": {
    "scrolled": true
   },
   "outputs": [],
   "source": [
    "for i in range ( len(df.index) ):\n",
    "        #print (df.iloc[i]['cast'])\n",
    "        cast_list = cast_list + df.iloc[i]['cast'].split(',')"
   ]
  },
  {
   "cell_type": "code",
   "execution_count": 13,
   "id": "e81c4589",
   "metadata": {},
   "outputs": [],
   "source": [
    "df_cast = pd.DataFrame(cast_list)"
   ]
  },
  {
   "cell_type": "code",
   "execution_count": 14,
   "id": "bd0b8057",
   "metadata": {},
   "outputs": [],
   "source": [
    "df_cast.columns = ['actor']"
   ]
  },
  {
   "cell_type": "code",
   "execution_count": 15,
   "id": "7e638279",
   "metadata": {},
   "outputs": [
    {
     "data": {
      "text/plain": [
       "actor\n",
       "not_cast             2058\n",
       "Maggie Binkley         56\n",
       " Anupam Kher           55\n",
       " Nassar                43\n",
       "Shah Rukh Khan         35\n",
       "1                      35\n",
       " Paresh Rawal          35\n",
       " Prakash Raj           32\n",
       " Om Puri               32\n",
       "Gene Autry             32\n",
       " Takahiro Sakurai      31\n",
       " Rupa Bhimani          31\n",
       "dtype: int64"
      ]
     },
     "execution_count": 15,
     "metadata": {},
     "output_type": "execute_result"
    }
   ],
   "source": [
    "#1- Top 10 atores/atrizes considerando todos os dados;\n",
    "top_actor = df_cast.groupby(['actor']).size().sort_values(ascending= False)\n",
    "# 10 atores reais + 1 filmes sem ator + 1 inválido(1)\n",
    "top_actor.head(12)\n",
    "#top_atores = df.group([''])"
   ]
  },
  {
   "cell_type": "code",
   "execution_count": 16,
   "id": "dc0d42fb",
   "metadata": {},
   "outputs": [
    {
     "data": {
      "text/plain": [
       "country\n",
       "United States     3071\n",
       "India             1201\n",
       "United Kingdom     447\n",
       "Japan              247\n",
       "South Korea        199\n",
       "dtype: int64"
      ]
     },
     "execution_count": 16,
     "metadata": {},
     "output_type": "execute_result"
    }
   ],
   "source": [
    "# 2- Top 5 países produtores de conteúdos considerando todos os dados e comparando como duas plataformas;\n",
    "\n",
    "top_country_total = df.groupby(['country']).size().sort_values(ascending= False).head(5)\n",
    "top_country_amazon = df_amazon_prime_titles.groupby(['country']).size().sort_values(ascending= False).head(5)\n",
    "top_country_netflix = df_netflix_titles.groupby(['country']).size().sort_values(ascending= False).head(5)\n",
    "\n",
    "top_country_total"
   ]
  },
  {
   "cell_type": "code",
   "execution_count": 17,
   "id": "62b3d146",
   "metadata": {},
   "outputs": [
    {
     "data": {
      "text/plain": [
       "country\n",
       "United States                    253\n",
       "India                            229\n",
       "United Kingdom                    28\n",
       "Canada                            16\n",
       "United Kingdom, United States     12\n",
       "dtype: int64"
      ]
     },
     "execution_count": 17,
     "metadata": {},
     "output_type": "execute_result"
    }
   ],
   "source": [
    "top_country_amazon"
   ]
  },
  {
   "cell_type": "code",
   "execution_count": 18,
   "id": "9d840c36",
   "metadata": {},
   "outputs": [
    {
     "data": {
      "text/plain": [
       "country\n",
       "United States     2818\n",
       "India              972\n",
       "date_added         831\n",
       "United Kingdom     419\n",
       "Japan              245\n",
       "dtype: int64"
      ]
     },
     "execution_count": 18,
     "metadata": {},
     "output_type": "execute_result"
    }
   ],
   "source": [
    "top_country_netflix"
   ]
  },
  {
   "cell_type": "code",
   "execution_count": 46,
   "id": "da84339a",
   "metadata": {},
   "outputs": [],
   "source": [
    "# 3- Mês no qual há mais adições de filmes na plataforma Netflix;\n",
    "\n",
    "top_month = df_netflix_titles.groupby(['date_added']).size().sort_values(ascending= False)\n",
    "top_month\n",
    "month_list = []\n",
    "#regex = '[a-zA-Z]+'\n",
    "\n",
    "#top_month_netflix = df_netflix_titles.groupby(['date_added']).size().sort_values(ascending= False)\n",
    "for i in range ( len(df_netflix_titles.index) ):\n",
    "#for i in range (  3 ):\n",
    "    month_list = month_list +  df_netflix_titles.iloc[i]['date_added'].split(' ')"
   ]
  },
  {
   "cell_type": "code",
   "execution_count": 53,
   "id": "be8e5a68",
   "metadata": {},
   "outputs": [
    {
     "data": {
      "text/plain": [
       "month\n",
       "1,           2212\n",
       "2019         2016\n",
       "2020         1879\n",
       "2018         1649\n",
       "2021         1498\n",
       "2017         1188\n",
       "July          827\n",
       "December      813\n",
       "September     770\n",
       "April         764\n",
       "dtype: int64"
      ]
     },
     "execution_count": 53,
     "metadata": {},
     "output_type": "execute_result"
    }
   ],
   "source": [
    "df_month = pd.DataFrame(month_list)\n",
    "df_month.columns = ['month']\n",
    "df_month.groupby(['month']).size().sort_values(ascending= False).head(10)\n",
    "# Julho = 827"
   ]
  },
  {
   "cell_type": "code",
   "execution_count": 380,
   "id": "9e97225a",
   "metadata": {},
   "outputs": [],
   "source": [
    "# 4- Quantidade de filmes como comédia.\n",
    "\n",
    "comedy = df.loc[df['listed_in'].str.contains(\"Comedy\", case = False)]\n",
    "comedy2 = df.loc[df['listed_in'] == 'Comedy']"
   ]
  },
  {
   "cell_type": "code",
   "execution_count": 381,
   "id": "90f32016",
   "metadata": {},
   "outputs": [
    {
     "data": {
      "text/plain": [
       "2498"
      ]
     },
     "execution_count": 381,
     "metadata": {},
     "output_type": "execute_result"
    }
   ],
   "source": [
    "#posssuem comedia\n",
    "len(comedy.index)"
   ]
  },
  {
   "cell_type": "code",
   "execution_count": 382,
   "id": "1b3cbf07",
   "metadata": {},
   "outputs": [
    {
     "data": {
      "text/plain": [
       "536"
      ]
     },
     "execution_count": 382,
     "metadata": {},
     "output_type": "execute_result"
    }
   ],
   "source": [
    "#somente comedia\n",
    "len(comedy2.index)"
   ]
  },
  {
   "cell_type": "code",
   "execution_count": 54,
   "id": "70630161",
   "metadata": {},
   "outputs": [
    {
     "data": {
      "text/plain": [
       "listed_in\n",
       "Drama                                                              986\n",
       "Comedy                                                             536\n",
       "Drama, Suspense                                                    399\n",
       "Comedy, Drama                                                      377\n",
       "Dramas, International Movies                                       362\n",
       "                                                                  ... \n",
       "Arthouse, Horror                                                     1\n",
       "Drama, Special Interest, Sports                                      1\n",
       "Arthouse, Horror, International                                      1\n",
       "Arthouse, Horror, Romance                                            1\n",
       "Anime Series, International TV Shows, Spanish-Language TV Shows      1\n",
       "Length: 1031, dtype: int64"
      ]
     },
     "execution_count": 54,
     "metadata": {},
     "output_type": "execute_result"
    }
   ],
   "source": [
    "# 5- Lista de todos os gêneros de filmes.\n",
    "\n",
    "df_listed_in = df.groupby(['listed_in']).size().sort_values(ascending= False)\n",
    "df_listed_in"
   ]
  },
  {
   "cell_type": "code",
   "execution_count": 414,
   "id": "4e4101f5",
   "metadata": {},
   "outputs": [
    {
     "data": {
      "text/plain": [
       "0.24519621109607578"
      ]
     },
     "execution_count": 414,
     "metadata": {},
     "output_type": "execute_result"
    }
   ],
   "source": [
    "# 6- A frequência de \"TV Show\" de todos os dados e comparativamente em relação as duas plataformas\n",
    "tv_show_total = df.loc[df['type'] == \"TV Show\" ]\n",
    "tv_show_total\n",
    "#frequencia total\n",
    "frequencia_tv_show_total = len(tv_show_total) / len(df)\n",
    "frequencia_tv_show_total"
   ]
  },
  {
   "cell_type": "code",
   "execution_count": 416,
   "id": "08bdd62b",
   "metadata": {},
   "outputs": [
    {
     "data": {
      "text/plain": [
       "0.3038492108550017"
      ]
     },
     "execution_count": 416,
     "metadata": {},
     "output_type": "execute_result"
    }
   ],
   "source": [
    "tv_show_netflix = df_netflix_titles.loc[df_netflix_titles['type'] == \"TV Show\" ]\n",
    "frequencia_tv_show_total_netflix = len(tv_show_netflix) / len(df_netflix_titles)\n",
    "#frequencia netflix\n",
    "frequencia_tv_show_total_netflix"
   ]
  },
  {
   "cell_type": "code",
   "execution_count": 419,
   "id": "51a0e0e6",
   "metadata": {},
   "outputs": [
    {
     "data": {
      "text/plain": [
       "0.19176665287546546"
      ]
     },
     "execution_count": 419,
     "metadata": {},
     "output_type": "execute_result"
    }
   ],
   "source": [
    "tv_show_amazon = df_amazon_prime_titles.loc[df_amazon_prime_titles['type'] == \"TV Show\" ]\n",
    "frequencia_tv_show_total_amazon = len(tv_show_amazon) / len(df_amazon_prime_titles)\n",
    "#frequencia amazon\n",
    "frequencia_tv_show_total_amazon"
   ]
  },
  {
   "cell_type": "code",
   "execution_count": 420,
   "id": "e1ef6618",
   "metadata": {},
   "outputs": [
    {
     "data": {
      "text/plain": [
       "0.7548037889039242"
      ]
     },
     "execution_count": 420,
     "metadata": {},
     "output_type": "execute_result"
    }
   ],
   "source": [
    "# 7- A frequência de \"Filmes\" de todos os dados e comparativamente em relação as duas plataformas\n",
    "movie_total = df.loc[df['type'] == \"Movie\" ]\n",
    "#fequencia total\n",
    "frequencia_movie_total = len(movie_total) / len(df)\n",
    "frequencia_movie_total"
   ]
  },
  {
   "cell_type": "code",
   "execution_count": 421,
   "id": "55f64e08",
   "metadata": {},
   "outputs": [
    {
     "data": {
      "text/plain": [
       "0.6961507891449983"
      ]
     },
     "execution_count": 421,
     "metadata": {},
     "output_type": "execute_result"
    }
   ],
   "source": [
    "movie_netflix = df_netflix_titles.loc[df_netflix_titles['type'] == \"Movie\" ]\n",
    "#frequencia netflix\n",
    "frequencia_movie_netflix = len(movie_netflix) / len(df_netflix_titles)\n",
    "frequencia_movie_netflix"
   ]
  },
  {
   "cell_type": "code",
   "execution_count": 422,
   "id": "8446d3a0",
   "metadata": {},
   "outputs": [
    {
     "data": {
      "text/plain": [
       "0.8082333471245345"
      ]
     },
     "execution_count": 422,
     "metadata": {},
     "output_type": "execute_result"
    }
   ],
   "source": [
    "movie_amazon = df_amazon_prime_titles.loc[df_amazon_prime_titles['type'] == \"Movie\" ]\n",
    "#frequencia amazon\n",
    "frequencia_movie_amazon = len(movie_amazon) / len(df_amazon_prime_titles)\n",
    "frequencia_movie_amazon"
   ]
  },
  {
   "cell_type": "code",
   "execution_count": null,
   "id": "41291580",
   "metadata": {},
   "outputs": [],
   "source": []
  },
  {
   "cell_type": "code",
   "execution_count": null,
   "id": "1a4c22b5",
   "metadata": {},
   "outputs": [],
   "source": []
  },
  {
   "cell_type": "code",
   "execution_count": null,
   "id": "dfe403f5",
   "metadata": {},
   "outputs": [],
   "source": []
  },
  {
   "cell_type": "code",
   "execution_count": null,
   "id": "3af2c699",
   "metadata": {},
   "outputs": [],
   "source": []
  },
  {
   "cell_type": "code",
   "execution_count": null,
   "id": "8d1b88b8",
   "metadata": {},
   "outputs": [],
   "source": []
  }
 ],
 "metadata": {
  "kernelspec": {
   "display_name": "Python 3 (ipykernel)",
   "language": "python",
   "name": "python3"
  },
  "language_info": {
   "codemirror_mode": {
    "name": "ipython",
    "version": 3
   },
   "file_extension": ".py",
   "mimetype": "text/x-python",
   "name": "python",
   "nbconvert_exporter": "python",
   "pygments_lexer": "ipython3",
   "version": "3.9.12"
  }
 },
 "nbformat": 4,
 "nbformat_minor": 5
}
